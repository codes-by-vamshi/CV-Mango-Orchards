{
 "cells": [
  {
   "cell_type": "markdown",
   "metadata": {},
   "source": [
    "**Libraries Used**"
   ]
  },
  {
   "cell_type": "code",
   "execution_count": 1,
   "metadata": {},
   "outputs": [],
   "source": [
    "import os\n",
    "from PIL import Image\n",
    "import matplotlib.pyplot as plt\n",
    "import cv2\n",
    "import numpy as np\n",
    "from sklearn.cluster import KMeans\n",
    "from sklearn.cluster import DBSCAN\n",
    "from sklearn.neighbors import NearestNeighbors"
   ]
  },
  {
   "cell_type": "markdown",
   "metadata": {},
   "source": [
    "**Reading the Images**"
   ]
  },
  {
   "cell_type": "code",
   "execution_count": 2,
   "metadata": {},
   "outputs": [],
   "source": [
    "def read_images_in_folder(folder_path): #Read images from a folder\n",
    "    image_list = []\n",
    "    for filename in os.listdir(folder_path):\n",
    "        image_path = os.path.join(folder_path, filename)\n",
    "        img = Image.open(image_path)\n",
    "        image_list.append(img)\n",
    "\n",
    "    return image_list  #Returns a list of Images read from the folder \n",
    "images = read_images_in_folder(\"Images\")"
   ]
  },
  {
   "cell_type": "markdown",
   "metadata": {},
   "source": [
    "**Performing K-Means clustering**\n",
    "\n",
    "Removing of the Clusters for better visualization "
   ]
  },
  {
   "cell_type": "code",
   "execution_count": null,
   "metadata": {},
   "outputs": [],
   "source": [
    "remove_cluster = []\n",
    "def remove_cluster_from_image(image, k=2): #Remove the dominant cluster from the given image using KMeans clustering.\n",
    "    image_array = np.array(image)\n",
    "    if len(image_array.shape) == 3 and image_array.shape[2] == 3: \n",
    "        gray_image = cv2.cvtColor(image_array, cv2.COLOR_RGB2GRAY)\n",
    "    else:\n",
    "        gray_image = image_array\n",
    "    pixels = gray_image.reshape((-1, 1))\n",
    "    kmeans = KMeans(n_clusters=k, random_state=42)\n",
    "    kmeans.fit(pixels)\n",
    "    labels = kmeans.labels_\n",
    "    cluster_to_remove = np.argmax(np.bincount(labels))# Find the most dominant cluster label\n",
    "    mask = (labels == cluster_to_remove).reshape(gray_image.shape)\n",
    "    removed_image = np.copy(image)\n",
    "    removed_image[mask] = [255, 255, 255] \n",
    "    edges_removed = cv2.Canny(removed_image, 30, 100) # Detect edges in the removed cluster image using Canny edge detection\n",
    "    # Plotting the original image, grayscale image, removed cluster image, and edges on removed cluster image\n",
    "    plt.figure(figsize=(15, 5))\n",
    "\n",
    "    plt.subplot(1, 4, 1)\n",
    "    plt.imshow(image)\n",
    "    plt.title(\"Original Image\")\n",
    "    plt.axis(\"off\")\n",
    "\n",
    "    plt.subplot(1, 4, 2)\n",
    "    plt.imshow(gray_image, cmap='gray')\n",
    "    plt.title(f\"Grayscale Image\")\n",
    "    plt.axis(\"off\")\n",
    "\n",
    "    plt.subplot(1, 4, 3)\n",
    "    plt.imshow(removed_image)\n",
    "    plt.title(f\"Removed Cluster (k={k})\")\n",
    "    plt.axis(\"off\")\n",
    "\n",
    "    plt.subplot(1, 4, 4)\n",
    "    plt.imshow(edges_removed, cmap='gray')\n",
    "    plt.title(\"Edges on Removed Cluster Image\")\n",
    "    plt.axis(\"off\")\n",
    "    plt.show()\n",
    "    return edges_removed\n",
    "for image in images:\n",
    "    remove_cluster.append(remove_cluster_from_image(image, k=2))\n"
   ]
  },
  {
   "cell_type": "markdown",
   "metadata": {},
   "source": [
    "**DBSCAN**"
   ]
  },
  {
   "cell_type": "code",
   "execution_count": 5,
   "metadata": {},
   "outputs": [],
   "source": [
    "# Set the epsilon and min_samples parameters for DBSCAN\n",
    "epsilon = 0.001\n",
    "min_samples = 20\n",
    "\n",
    "def dbscan_on_images(images, eps, min_samples): #Apply DBSCAN clustering on a list of images.\n",
    "    clustered_images = []\n",
    "    for image in images:\n",
    "        image_array = np.array(image)\n",
    "        flattened_image = image_array.reshape(-1, 3)\n",
    "        dbscan = DBSCAN(eps=eps, min_samples=min_samples)\n",
    "        dbscan.fit(flattened_image)\n",
    "        labels = dbscan.labels_.reshape(image_array.shape[:2])\n",
    "        clustered_images.append(labels)\n",
    "\n",
    "    return clustered_images # Return the list of clustered images\n",
    "clustered_images = dbscan_on_images(images, eps=epsilon, min_samples=min_samples)\n",
    "\n"
   ]
  },
  {
   "cell_type": "markdown",
   "metadata": {},
   "source": [
    "Removing a range of cluster classes after classifiction"
   ]
  },
  {
   "cell_type": "code",
   "execution_count": null,
   "metadata": {},
   "outputs": [],
   "source": [
    "def remove_clusters(image, clusters_to_remove): #Remove specified clusters from the input image.\n",
    "    mask = np.isin(image, clusters_to_remove)\n",
    "    image[mask] = 0 \n",
    "\n",
    "    return image\n",
    "modified_image_list = []\n",
    "for idx, (original_image, clustered_image) in enumerate(zip(images, clustered_images)):\n",
    "    # Plotting the original image, Clustered Image, removed cluster image\n",
    "    fig, axes = plt.subplots(1, 3, figsize=(15, 5))\n",
    "\n",
    "    axes[0].imshow(original_image)\n",
    "    axes[0].set_title('Original Image')\n",
    "    axes[0].axis('off')\n",
    "\n",
    "    axes[1].imshow(clustered_image, cmap='viridis') \n",
    "    axes[1].set_title(f'Clustered Image {idx + 1}')\n",
    "    axes[1].axis('off')\n",
    "\n",
    "    clusters_to_remove = np.arange(12500, 40000)\n",
    "    modified_image = remove_clusters(np.copy(clustered_image), clusters_to_remove)\n",
    "    modified_image_list.append(modified_image)\n",
    "    axes[2].imshow(modified_image)\n",
    "    axes[2].set_title(f'Modified Image {idx + 1} after Removing Clusters by Number')\n",
    "    axes[2].axis('off')\n",
    "\n",
    "    plt.show()\n"
   ]
  },
  {
   "cell_type": "markdown",
   "metadata": {},
   "source": [
    "**Bounding Boxes**"
   ]
  },
  {
   "cell_type": "code",
   "execution_count": 7,
   "metadata": {},
   "outputs": [],
   "source": [
    "def find_contours(drone_image): #Find contours in a given drone image.\n",
    "    drone_image = np.array(drone_image)\n",
    "    gray_image = cv2.cvtColor(drone_image, cv2.COLOR_BGR2GRAY)\n",
    "    blurred_image = cv2.GaussianBlur(gray_image, (5, 5), 0)\n",
    "    edges = cv2.Canny(blurred_image, 50, 150)\n",
    "    contours, _ = cv2.findContours(edges, cv2.RETR_EXTERNAL, cv2.CHAIN_APPROX_SIMPLE)\n",
    "    return contours,blurred_image,edges,drone_image # Return detected contours, blurred image, edges, and original drone image"
   ]
  },
  {
   "cell_type": "markdown",
   "metadata": {},
   "source": [
    "**Find bounding boxes formed after edge detection**"
   ]
  },
  {
   "cell_type": "code",
   "execution_count": null,
   "metadata": {},
   "outputs": [],
   "source": [
    "def process_and_display_images(drone_image):  #Process and display images with detected contours.\n",
    "    contours,blurred_image,edges,drone_image = find_contours(drone_image)\n",
    "    detected_trees = []\n",
    "    o_image = drone_image.copy()\n",
    "    for contour in contours:\n",
    "        area = cv2.contourArea(contour)\n",
    "        if area > 500:\n",
    "            x, y, w, h = cv2.boundingRect(contour)\n",
    "            detected_trees.append((x, y, x + w, y + h))\n",
    "    for tree in detected_trees:  # Draw rectangles around detected trees on the original image\n",
    "        x1, y1, x2, y2 = tree\n",
    "        cv2.rectangle(drone_image, (x1, y1), (x2, y2), (0, 255, 0), 2)\n",
    "    contour_image = np.zeros_like(drone_image)\n",
    "    cv2.drawContours(contour_image, contours, -1, (0, 255, 0), 2) # Draw contours on the contour image\n",
    "    #Displays the original image, blurred image, edges, and edges with contours overlaid.\n",
    "    fig, axs = plt.subplots(1, 4, figsize=(15, 5))\n",
    "\n",
    "    axs[0].imshow(cv2.cvtColor(o_image, cv2.COLOR_BGR2RGB))\n",
    "    axs[0].set_title('Original Image')\n",
    "    axs[0].axis('off')\n",
    "\n",
    "    axs[1].imshow(blurred_image, cmap='gray')\n",
    "    axs[1].set_title('Blurred Image')\n",
    "    axs[1].axis('off')\n",
    "\n",
    "    axs[2].imshow(cv2.cvtColor(edges, cv2.COLOR_GRAY2RGB))\n",
    "    axs[2].imshow(contour_image, alpha=0.5)\n",
    "    axs[2].set_title('Edges')\n",
    "    axs[2].axis('off')\n",
    "\n",
    "    axs[3].imshow(drone_image)\n",
    "    axs[3].set_title('Edges with Contours')\n",
    "    axs[3].axis('off')\n",
    "\n",
    "    plt.tight_layout()\n",
    "    plt.show()\n",
    "for image in images:\n",
    "    process_and_display_images(image)\n"
   ]
  },
  {
   "cell_type": "markdown",
   "metadata": {},
   "source": [
    "**Find bounding boxes formed after edge detection on images that have been clustered by DBSCAN**"
   ]
  },
  {
   "cell_type": "code",
   "execution_count": null,
   "metadata": {},
   "outputs": [],
   "source": [
    "def process_and_display_images(clustered_images): # Process and display images with detected contours and clustered regions.\n",
    "    i = -1\n",
    "    for clustered_image in clustered_images:\n",
    "        i+=1\n",
    "        clustered_image_array = np.array(clustered_image)\n",
    "        normalized_image = cv2.normalize(clustered_image_array, None, alpha=0, beta=255, norm_type=cv2.NORM_MINMAX, dtype=cv2.CV_8U)\n",
    "        clustered_image_rgb = cv2.cvtColor(normalized_image, cv2.COLOR_GRAY2RGB)\n",
    "        gray_image = cv2.cvtColor(clustered_image_rgb, cv2.COLOR_RGB2GRAY)\n",
    "        blurred_image = cv2.GaussianBlur(gray_image, (5, 5), 0)\n",
    "        edges = cv2.Canny(blurred_image, 50, 150)# Detect edges using Canny edge detection\n",
    "        contours, _ = cv2.findContours(edges, cv2.RETR_EXTERNAL, cv2.CHAIN_APPROX_SIMPLE)\n",
    "        detected_trees = []\n",
    "        o_image = np.array(images[i])\n",
    "\n",
    "        for contour in contours: # Iterate over contours to detect trees and draw rectangles around them\n",
    "            area = cv2.contourArea(contour)\n",
    "            if area > 1000:\n",
    "                x, y, w, h = cv2.boundingRect(contour)\n",
    "                detected_trees.append((x, y, x + w, y + h))\n",
    "\n",
    "        for tree in detected_trees: # Draw rectangles around detected trees on the original image\n",
    "            x1, y1, x2, y2 = tree\n",
    "            cv2.rectangle(o_image, (x1, y1), (x2, y2), (0, 255, 0), 2)\n",
    "\n",
    "        contour_image = np.zeros_like(o_image)\n",
    "        cv2.drawContours(contour_image, contours, -1, (0, 255, 0), 2)\n",
    "        #Displays the clustered image, blurred image, edges with contours overlaid, and detected trees.\n",
    "        fig, axs = plt.subplots(1, 4, figsize=(15, 5))\n",
    "\n",
    "        axs[0].imshow(clustered_image_rgb)\n",
    "        axs[0].set_title('Clustered Image')\n",
    "        axs[0].axis('off')\n",
    "\n",
    "        axs[1].imshow(blurred_image, cmap='gray')\n",
    "        axs[1].set_title('Blurred Image')\n",
    "        axs[1].axis('off')\n",
    "\n",
    "        axs[2].imshow(edges, cmap='gray')\n",
    "        axs[2].imshow(contour_image, alpha=0.5)\n",
    "        axs[2].set_title('Edges with Contours')\n",
    "        axs[2].axis('off')\n",
    "\n",
    "        axs[3].imshow(o_image)\n",
    "        axs[3].set_title('Detected Trees')\n",
    "        axs[3].axis('off')\n",
    "\n",
    "        plt.tight_layout()\n",
    "        plt.show()\n",
    "process_and_display_images(modified_image_list)\n"
   ]
  },
  {
   "cell_type": "markdown",
   "metadata": {},
   "source": [
    "**Find bounding boxes formed after edge detection on images that have been clustered by K-Means**"
   ]
  },
  {
   "cell_type": "code",
   "execution_count": null,
   "metadata": {},
   "outputs": [],
   "source": [
    "def process_and_display_images(clustered_image,i): #Process and display images with detected contours and clustered regions.\n",
    "    clustered_image_array = np.array(clustered_image)\n",
    "    normalized_image = cv2.normalize(clustered_image_array, None, alpha=0, beta=255, norm_type=cv2.NORM_MINMAX, dtype=cv2.CV_8U)\n",
    "    clustered_image_rgb = cv2.cvtColor(normalized_image, cv2.COLOR_GRAY2RGB)\n",
    "    gray_image = cv2.cvtColor(clustered_image_rgb, cv2.COLOR_RGB2GRAY)\n",
    "    blurred_image = cv2.GaussianBlur(gray_image, (5, 5), 0)\n",
    "    edges = cv2.Canny(blurred_image, 50, 150)\n",
    "    contours, _ = cv2.findContours(edges, cv2.RETR_EXTERNAL, cv2.CHAIN_APPROX_SIMPLE)\n",
    "    detected_trees = []\n",
    "    o_image = np.array(images[i])\n",
    "\n",
    "    for contour in contours:\n",
    "        area = cv2.contourArea(contour)\n",
    "        if area > 5000: # Threshold for minimum contour area to consider as a tree  \n",
    "            x, y, w, h = cv2.boundingRect(contour)\n",
    "            detected_trees.append((x, y, x + w, y + h))\n",
    "\n",
    "    for tree in detected_trees: # Draw rectangles around detected trees on the original image\n",
    "        x1, y1, x2, y2 = tree\n",
    "        cv2.rectangle(o_image, (x1, y1), (x2, y2), (0, 255, 0), 2)\n",
    "\n",
    "    contour_image = np.zeros_like(o_image)\n",
    "    cv2.drawContours(contour_image, contours, -1, (0, 255, 0), 2)\n",
    "    #Displays the clustered image, blurred image, edges with contours overlaid, and detected trees.\n",
    "    fig, axs = plt.subplots(1, 4, figsize=(15, 5))\n",
    "\n",
    "    axs[0].imshow(clustered_image_rgb)\n",
    "    axs[0].set_title('Clustered Image')\n",
    "    axs[0].axis('off')\n",
    "\n",
    "    axs[1].imshow(blurred_image, cmap='gray')\n",
    "    axs[1].set_title('Blurred Image')\n",
    "    axs[1].axis('off')\n",
    "\n",
    "    axs[2].imshow(edges, cmap='gray')\n",
    "    axs[2].imshow(contour_image, alpha=0.5)\n",
    "    axs[2].set_title('Edges with Contours')\n",
    "    axs[2].axis('off')\n",
    "\n",
    "    axs[3].imshow(o_image)\n",
    "    axs[3].set_title('Detected Trees')\n",
    "    axs[3].axis('off')\n",
    "\n",
    "    plt.tight_layout()\n",
    "    plt.show()\n",
    "i = 0\n",
    "for image in remove_cluster:\n",
    "    \n",
    "    process_and_display_images(image,i)\n",
    "    i+=1\n",
    "    \n"
   ]
  }
 ],
 "metadata": {
  "kernelspec": {
   "display_name": "Python 3",
   "language": "python",
   "name": "python3"
  },
  "language_info": {
   "codemirror_mode": {
    "name": "ipython",
    "version": 3
   },
   "file_extension": ".py",
   "mimetype": "text/x-python",
   "name": "python",
   "nbconvert_exporter": "python",
   "pygments_lexer": "ipython3",
   "version": "3.10.8"
  }
 },
 "nbformat": 4,
 "nbformat_minor": 2
}
